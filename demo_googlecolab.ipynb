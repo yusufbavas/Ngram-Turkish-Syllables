{
 "cells": [
  {
   "cell_type": "code",
   "execution_count": 2,
   "metadata": {},
   "outputs": [
    {
     "name": "stdout",
     "output_type": "stream",
     "text": [
      "Requirement already satisfied: html2text in c:\\users\\batuhan\\anaconda3\\lib\\site-packages (2020.1.16)\n"
     ]
    }
   ],
   "source": [
    "!pip install html2text"
   ]
  },
  {
   "cell_type": "code",
   "execution_count": 3,
   "metadata": {},
   "outputs": [],
   "source": [
    "import re\n",
    "from nltk import ngrams\n",
    "from collections import Counter\n",
    "import html2text\n",
    "import random\n",
    "import pickle"
   ]
  },
  {
   "cell_type": "code",
   "execution_count": 4,
   "metadata": {},
   "outputs": [],
   "source": [
    "class ngram:\n",
    "    def __init__(self, filename,n): \n",
    "        self.__data = []\n",
    "        self.__n = n\n",
    "        self.model = {}\n",
    "        self.__string_data = self.__readfile(filename)\n",
    "        print(\"Syllable in progress...\")\n",
    "        self.__data = self.syllables(self.__string_data)\n",
    "        self.__create_ngram_probability()\n",
    "        self.__gt = 0\n",
    "\n",
    "    def __readfile(self,filename):\n",
    "        \n",
    "        print(\"Reading {} file...\".format(filename))\n",
    "        \n",
    "        f = open(filename,\"r\",encoding=\"utf8\",errors='ignore')\n",
    "        #f = open(filename,\"r\")\n",
    "        data = f.read()\n",
    "        data = html2text.html2text(data)\n",
    "        data = data.lower()\n",
    "        data = re.sub(r'[^a-zçğıöşü ]', '', data)\n",
    "        \n",
    "        f.close()\n",
    "        return data\n",
    "\n",
    "    def __create_ngram_probability(self):\n",
    "\n",
    "        print(\"n-gram model creating...\")\n",
    "\n",
    "        self.__ngram = ngrams(self.__data, self.__n)\n",
    "\n",
    "        self.__counter = Counter(self.__ngram)\n",
    "        self.GT_smoothing()\n",
    "        \n",
    "        t_gram = Counter(ngrams(self.__data, self.__n-1))\n",
    "\n",
    "        if self.__n == 1:\n",
    "            for key in self.__counter.keys():\n",
    "                self.model[key] = self.__counter.get(key) / len(self.__counter.keys())\n",
    "        else:   \n",
    "            for key in self.__counter.keys():\n",
    "                self.model[key] = self.__counter.get(key) / t_gram.get(key[0:-1])\n",
    "\n",
    "        self.model['UNK'] = 0\n",
    "    \n",
    "    def GT_smoothing(self):\n",
    "\n",
    "        count = 0\n",
    "        gt_dict = {}\n",
    "        for key,value in self.__counter.items():\n",
    "            if value == 1:\n",
    "                count +=1\n",
    "            if gt_dict.get(value) == None:\n",
    "                gt_dict[value] = 1\n",
    "            else:\n",
    "                gt_dict[value] = gt_dict.get(value) +1\n",
    "        \n",
    "        for key,value in self.__counter.items():\n",
    "            if gt_dict.get(value + 1) != None : \n",
    "                self.__counter[key] = (value +1) * (gt_dict.get(value +1) / gt_dict.get(value) )\n",
    "            \n",
    "        self.__gt = count / len(self.__counter.keys())\n",
    "\n",
    "    def test_perplexity(self,filename):\n",
    "\n",
    "        test_data = self.__readfile(filename)       \n",
    "        res_dict = {}\n",
    "        test_data = test_data.split(\" \")\n",
    "        \n",
    "        print(\"Perpleixty calculating...\")\n",
    "\n",
    "        for test in test_data:\n",
    "            result = 1.0\n",
    "            sly = [\" \"]\n",
    "            sly.extend(self.syllables(test))\n",
    "            sly.extend([\" \"])\n",
    "\n",
    "            for i in range(len(sly) - self.__n +1):\n",
    "                temp = sly[i:self.__n+i]\n",
    "                if(self.model.get(tuple(temp)) == None):\n",
    "                    flag = False\n",
    "                    for t in temp:\n",
    "                        if t in self.__data:\n",
    "                            flag = True\n",
    "                            break\n",
    "                    # if we see the same syllabus before it means that this\n",
    "                    # combination doesnt happened before so we use GT smoothing variable\n",
    "                    if flag:\n",
    "                        result *= self.__gt / len(self.model)\n",
    "                    else:\n",
    "                        self.model['UNK'] = self.model.get('UNK') +1\n",
    "                        result *= (self.model.get('UNK')) / len(self.model)\n",
    "                else:\n",
    "                    result *= self.model.get(tuple(temp))\n",
    "            if self.__n > len(sly):\n",
    "                res = 0\n",
    "                t = 0\n",
    "                for key in self.__counter.keys():\n",
    "                    if str(tuple(sly))[1:-1] in str(key) :\n",
    "                        res += self.__counter.get(key)\n",
    "                    if str(tuple(sly[:-1]))[1:-1] in str(key):\n",
    "                        t += self.__counter.get(key)\n",
    "                if (res == 0) or (t == 0):\n",
    "                    flag = False\n",
    "                    for t in temp:\n",
    "                        if t in self.__data:\n",
    "                            flag = True\n",
    "                            break\n",
    "                    if flag:\n",
    "                        result *= self.__gt / len(self.model)\n",
    "                    else:\n",
    "                        self.model['UNK'] = self.model.get('UNK') +1\n",
    "                        result = (self.model.get('UNK')) / len(self.model) \n",
    "                else:\n",
    "                    result = res/t\n",
    "            res_dict[''.join(sly[1:-1])] = (1 / result)**(1/ len(sly))\n",
    "\n",
    "        return res_dict \n",
    "\n",
    "    # choose one of the 5 syllabus and produce a sentence\n",
    "    def generate_sentence(self,res = (' ',)):\n",
    "\n",
    "        print(\"Generate sentence:\")\n",
    "        result = \"\"\n",
    "        res = self.__generate_sentence(res)\n",
    "        for t in res[1:]:\n",
    "            result += t\n",
    "        while(True):\n",
    "            res = self.__generate_sentence(res[1:])\n",
    "            for t in res[self.__n-1:]:\n",
    "                 result += t \n",
    "            if ' ' in result:\n",
    "                break\n",
    "        print(result.split(\" \")[0])\n",
    "\n",
    "    def __generate_sentence(self,syllable):\n",
    "\n",
    "        keys = self.__counter.keys()\n",
    "        count = [0]*5\n",
    "        res = [(\" \"),(\" \"),(\" \"),(\" \"),(\" \")]\n",
    "        \n",
    "        for key in keys:\n",
    "            if (str(key).startswith(str(syllable)[:-2])):\n",
    "\n",
    "                for i in range(0,5):\n",
    "                    if self.__counter.get(key) > count[i]:\n",
    "                        res[i:5-1] = res[i+1:5]\n",
    "                        count[i:5-1] = count[i+1:5]\n",
    "                        count[i] = self.__counter.get(key)\n",
    "                        res[i] = key\n",
    "                        break\n",
    "        return random.choice(res)\n",
    "\n",
    "    def syllables(self,word):\n",
    "        \n",
    "        syllables = []\n",
    "        #print(\"Syllable in progress...\")\n",
    "        \n",
    "        bits = ''.join(['1' if l in 'aeıioöuü' else '0' for l in word])\n",
    "\n",
    "        seperators = (\n",
    "            ('101', 1),\n",
    "            ('1001', 2),\n",
    "            ('10001', 3)\n",
    "        )\n",
    "\n",
    "        index, cut_start_pos = 0, 0\n",
    "\n",
    "        while index < len(bits):\n",
    "\n",
    "            for seperator_pattern, seperator_cut_pos in seperators:\n",
    "                if bits[index:].startswith(seperator_pattern):\n",
    "\n",
    "                    if (' ' in word[cut_start_pos:index + seperator_cut_pos]):\n",
    "\n",
    "                        if word[cut_start_pos:index + seperator_cut_pos][0] == ' ':\n",
    "                            syllables.append(' ')\n",
    "                            syllables.append(word[cut_start_pos +1 :index + seperator_cut_pos])\n",
    "                        else:\n",
    "                            syllables.append(word[cut_start_pos:index + seperator_cut_pos - 1])\n",
    "                            syllables.append(' ')\n",
    "                    else:\n",
    "                        syllables.append(word[cut_start_pos:index + seperator_cut_pos])\n",
    "\n",
    "                    index += seperator_cut_pos\n",
    "                    cut_start_pos = index\n",
    "                    break\n",
    "\n",
    "            index += 1\n",
    "\n",
    "        syllables.append(word[cut_start_pos:])\n",
    "        #print(\"syllables is completed\")\n",
    "        return syllables"
   ]
  },
  {
   "cell_type": "code",
   "execution_count": 5,
   "metadata": {},
   "outputs": [
    {
     "name": "stdout",
     "output_type": "stream",
     "text": [
      "Reading text file...\n",
      "Syllable in progress...\n",
      "n-gram model creating...\n"
     ]
    }
   ],
   "source": [
    "res1 = ngram(\"text\",1)"
   ]
  },
  {
   "cell_type": "code",
   "execution_count": 6,
   "metadata": {},
   "outputs": [
    {
     "name": "stdout",
     "output_type": "stream",
     "text": [
      "Reading text file...\n",
      "Syllable in progress...\n",
      "n-gram model creating...\n"
     ]
    }
   ],
   "source": [
    "res2 = ngram(\"text\",2)"
   ]
  },
  {
   "cell_type": "code",
   "execution_count": 7,
   "metadata": {},
   "outputs": [
    {
     "name": "stdout",
     "output_type": "stream",
     "text": [
      "Reading text file...\n",
      "Syllable in progress...\n",
      "n-gram model creating...\n"
     ]
    }
   ],
   "source": [
    "res3 = ngram(\"text\",3)"
   ]
  },
  {
   "cell_type": "code",
   "execution_count": 8,
   "metadata": {},
   "outputs": [
    {
     "name": "stdout",
     "output_type": "stream",
     "text": [
      "Reading text file...\n",
      "Syllable in progress...\n",
      "n-gram model creating...\n"
     ]
    }
   ],
   "source": [
    "res4 = ngram(\"text\",4)"
   ]
  },
  {
   "cell_type": "code",
   "execution_count": 9,
   "metadata": {},
   "outputs": [
    {
     "name": "stdout",
     "output_type": "stream",
     "text": [
      "Reading text file...\n",
      "Syllable in progress...\n",
      "n-gram model creating...\n"
     ]
    }
   ],
   "source": [
    "res5 = ngram(\"text\",5)"
   ]
  },
  {
   "cell_type": "code",
   "execution_count": 39,
   "metadata": {},
   "outputs": [
    {
     "name": "stdout",
     "output_type": "stream",
     "text": [
      "Generate sentence:\n",
      "lelelela\n"
     ]
    }
   ],
   "source": [
    "res1.generate_sentence()"
   ]
  },
  {
   "cell_type": "code",
   "execution_count": 41,
   "metadata": {},
   "outputs": [
    {
     "name": "stdout",
     "output_type": "stream",
     "text": [
      "Generate sentence:\n",
      "vekitaplaşmarafındandırtürkedenizma\n"
     ]
    }
   ],
   "source": [
    "res2.generate_sentence()"
   ]
  },
  {
   "cell_type": "code",
   "execution_count": 45,
   "metadata": {},
   "outputs": [
    {
     "name": "stdout",
     "output_type": "stream",
     "text": [
      "Generate sentence:\n",
      "içinde\n"
     ]
    }
   ],
   "source": [
    "res3.generate_sentence()"
   ]
  },
  {
   "cell_type": "code",
   "execution_count": 48,
   "metadata": {},
   "outputs": [
    {
     "name": "stdout",
     "output_type": "stream",
     "text": [
      "Generate sentence:\n",
      "ile\n"
     ]
    }
   ],
   "source": [
    "res4.generate_sentence()"
   ]
  },
  {
   "cell_type": "code",
   "execution_count": 28,
   "metadata": {},
   "outputs": [
    {
     "name": "stdout",
     "output_type": "stream",
     "text": [
      "Generate sentence:\n",
      "tarafından\n"
     ]
    }
   ],
   "source": [
    "res5.generate_sentence()"
   ]
  },
  {
   "cell_type": "code",
   "execution_count": 36,
   "metadata": {},
   "outputs": [
    {
     "name": "stdout",
     "output_type": "stream",
     "text": [
      "Reading perplexity file...\n",
      "Perpleixty calculating...\n"
     ]
    },
    {
     "data": {
      "text/plain": [
       "{'orta': 0.5005046745323962,\n",
       " 'italya': 1.0222430438364583,\n",
       " 'coğrafi': 1.6878991909919954,\n",
       " 'bölgesi': 0.9869073111108995,\n",
       " '': 0.6181324076067047,\n",
       " 'veya': 0.2954989169804265,\n",
       " 'sadece': 0.5690797687872495,\n",
       " 'resmiidari': 3.1612918562068586,\n",
       " 'birniteleme': 0.7283067283470206,\n",
       " 'olmayıp': 1.607047527305015,\n",
       " 'geniş': 0.6750256335452967,\n",
       " 'kapsamlı': 3.5319739805427437,\n",
       " 'kültürel': 3.2665157075384808,\n",
       " 'tarihsel': 0.9910816238594876,\n",
       " 've': 0.1797936717140122,\n",
       " 'birtanımlamadır': 1.1784270301383748,\n",
       " 'italyanın': 1.3154775337621145,\n",
       " 'olarak': 0.4785522706409385,\n",
       " 'kuzey': 1.2390875282002096,\n",
       " 'kısmında': 1.5895926687962612,\n",
       " 'bulunan': 0.9437968121078821,\n",
       " 'coğrafialanları': 3.00963777377914,\n",
       " 'ihtiva': 1.4807157882000848,\n",
       " 'eder': 0.8721018129103484,\n",
       " 'italyan': 1.624972124780483,\n",
       " 'istatistiksel': 3.5025996605930447,\n",
       " 'enstitüsü': 3.0938251826552157,\n",
       " 'istat': 2.2163395847948353,\n",
       " 'tarafındankullanılan': 1.4572977579748267,\n",
       " 'beş': 0.9207887785526377,\n",
       " 'resmi': 1.0528228561751243,\n",
       " 'bölgesinden': 1.659817977220392,\n",
       " 'biridir': 0.6147948952548716,\n",
       " 'istattanimina': 2.4458030987490815,\n",
       " 'gore': 0.9334199166189852,\n",
       " 'cografi': 1.3798115665690107,\n",
       " 'bolgesi': 0.885080626316226,\n",
       " 'italyada': 1.0228492104524896,\n",
       " 'idari': 0.3937493197840662,\n",
       " 'bölgeden': 1.1531631473150539,\n",
       " 'tanesini': 0.6621806650806146,\n",
       " 'kapsar': 3.4007907446686163,\n",
       " 'lazio': 1.4540541364188115,\n",
       " 'marche': 5.158023776087225,\n",
       " 'toskana': 1.2350318273602838,\n",
       " 'umbria': 2.51669321394586,\n",
       " 'bununla': 0.6003068830604056,\n",
       " 'birlikte': 0.664273169105707,\n",
       " 'coğrafibölge': 2.8309890603865586,\n",
       " 'tarihi': 0.6983897252594277,\n",
       " 'nedenlerle': 0.6831047940369008,\n",
       " 'genellikle': 1.076081440497628,\n",
       " 'güneyitalyanın': 2.378125509566638,\n",
       " 'bir': 0.20174855356271132,\n",
       " 'parçası': 1.1368962395666924,\n",
       " 'olan': 0.39844342614794204,\n",
       " 'abruzzo': 6.613030447746482,\n",
       " 'molise': 0.8262387012855175,\n",
       " 'bölgelerini': 1.0400362057062786,\n",
       " 'de': 0.1587104172310283,\n",
       " 'içerebilirorta': 1.9536393980806506,\n",
       " 'çizme': 1.339270054345535,\n",
       " 'şekilli': 1.2913270842388043,\n",
       " 'karasının': 0.7375366250549394,\n",
       " 'yukarıkısmını': 2.4791664426443476,\n",
       " 'kapsamaktadır': 1.91456114458008,\n",
       " 'batısında': 0.9171920952846285,\n",
       " 'akdenizin': 1.9903797620730679,\n",
       " 'birer': 0.9902224275618644,\n",
       " 'parçaları': 0.9996882505387584,\n",
       " 'tiren': 0.6266147028646355,\n",
       " 'denizive': 0.76105180455753,\n",
       " 'ligurya': 1.234940512009907,\n",
       " 'denizi': 0.6634582423084969,\n",
       " 'bulunur': 1.7524142911098208,\n",
       " 'ana': 0.3574155765501875,\n",
       " 'kara': 0.33267036695624913,\n",
       " 'engebeli': 1.2155562277291807,\n",
       " 'olup': 1.113989675872395,\n",
       " 'dik': 0.5024973329567599,\n",
       " 'yamaçları': 1.003899516808456,\n",
       " 'amazirveleri': 1.3606566249514036,\n",
       " 'fazla': 0.6275864392804622,\n",
       " 'yüksek': 1.2113785447795389,\n",
       " 'olmayan': 0.8529200449930934,\n",
       " 'apenin': 0.9370926288651542,\n",
       " 'dağları': 0.7022138655416383,\n",
       " 'rta': 0.6477239264848824,\n",
       " 'dağlarıile': 1.8509591982315716,\n",
       " 'kaplıdır': 1.5543325740563578,\n",
       " 'bölgesinin': 1.2581497000657307,\n",
       " 'kısmı': 1.2660403784915342,\n",
       " 'bu': 0.22275361688763928,\n",
       " 'dağlıkarazilerden': 1.7800744303942022,\n",
       " 'olusur': 1.7045698856992935,\n",
       " 'dağlardan': 1.0496286442852705,\n",
       " 'çıkan': 0.9942315683887172,\n",
       " 'akarsulardan': 1.4128294521379778,\n",
       " 'en': 0.4503027989600266,\n",
       " 'önemlileri': 1.0083769392711959,\n",
       " 'dahakuzeyde': 1.3828622509853887,\n",
       " 'bölgesinde': 1.2781839324155915,\n",
       " 'arno': 1.0404215623828925,\n",
       " 'nehri': 1.2913895960501895,\n",
       " 'dahagüneyde': 1.5131240365822327,\n",
       " 'tiber': 0.8677706398810113,\n",
       " 'batı': 0.526810148590115,\n",
       " 'yönüne': 1.214825278631663,\n",
       " 'akıpbatıda': 1.8358450856741957,\n",
       " 'akdenize': 1.2517469897983318,\n",
       " 'akarlar': 0.7330685498760691,\n",
       " 'bölgenin': 1.1162219258670991,\n",
       " 'doğusunda': 1.4454863721416995,\n",
       " 'adriyatik': 1.2206489888684997,\n",
       " 'denizikıyıları': 1.254015900418906,\n",
       " 'kıyılar': 0.8362515596190515,\n",
       " 'bölgesine': 1.1296180359835655,\n",
       " 'aittirler': 1.9506637613153037,\n",
       " 'idaribölgesinde': 1.3017516903571842,\n",
       " 'akarsular': 1.1789246276393517,\n",
       " 'gayet': 1.0617946980225441,\n",
       " 'kısadırlar': 1.0621837612773006,\n",
       " 'kazdıkları': 3.3765890321844143,\n",
       " 'derin': 0.37509957193554117,\n",
       " 'vadileriçinden': 1.1927180636691497,\n",
       " 'büyük': 0.8362916071046856,\n",
       " 'hızla': 0.6443367816435769,\n",
       " 'denizine': 0.8113582207703548,\n",
       " 'ulaşırlar': 1.5141136474506691,\n",
       " 'bulunangöller': 2.324005303736361,\n",
       " 'şunlardır': 1.5337781986760364,\n",
       " 'km': 0.6281579200829883,\n",
       " 'alanlı': 0.5685834673442055,\n",
       " 'trasimeno': 1.6843776078215402,\n",
       " 'gölü': 0.7622537582399986,\n",
       " 'bolsenagölü': 1.8290215721465943,\n",
       " 'bracciano': 4.31996212687396,\n",
       " 'glü': 0.6340179405646458,\n",
       " 'nüfusuresmi': 4.471742493235349,\n",
       " 'aralık': 0.6145596779169393,\n",
       " 'tahminine': 1.5175406948088992,\n",
       " 'göre': 0.5426459119279888,\n",
       " 'kişidir': 0.948763143161089,\n",
       " 'nüfus': 1.563354129822202,\n",
       " 'yüzölçümü': 6.419829809495253,\n",
       " 'alana': 0.40741352538444336,\n",
       " 'yayılmıştır': 1.2093248918095365,\n",
       " 'rakamların': 1.4140550532082334,\n",
       " 'açıkçagösterdiği': 2.941850165460644,\n",
       " 'gibi': 0.46019362104455863,\n",
       " 'yoğunluğu': 2.4488250305207595,\n",
       " 'kilometrekare': 1.5728875696548668,\n",
       " 'başına': 0.8003282858440828,\n",
       " 'blgesinin': 1.1904084812751716,\n",
       " 'ettiği': 0.8649876477021231,\n",
       " 'idaribölgeleri': 1.0179625821248943,\n",
       " 'alanları': 0.5576831851033541,\n",
       " 'tahminleri': 1.400882621150673,\n",
       " 'ile': 0.2717971268742965,\n",
       " 'coğrafibölgede': 2.4978118583624345,\n",
       " 'tahmini': 1.4064582344665804,\n",
       " 'itibariyle': 1.1963474856120484,\n",
       " 'nşşfusu': 1.3207734801436033,\n",
       " 'kişiyi': 1.0776168119758578,\n",
       " 'aşkınolan': 3.0334345282858073,\n",
       " 'şu': 0.48232334010844197,\n",
       " 'şehirsel': 3.0108327583025427,\n",
       " 'komünler': 1.9634809643401034,\n",
       " 'bulunmaktadır': 1.6327367556768124,\n",
       " 'hemenkuzeydeki': 2.620210962100509,\n",
       " 'emiliaromagna': 5.47581052976759,\n",
       " 'politik': 1.1550910100474014,\n",
       " 'bakimdan': 1.1447091182479603,\n",
       " 'solcukanat': 3.8908169102451526,\n",
       " 'bölgesidir': 1.3549390248446682,\n",
       " 'ii': 1.2879824109934723,\n",
       " 'dunya': 1.0378695498720096,\n",
       " 'savasindan': 1.3199413220520928,\n",
       " 'sonra': 0.4887670153555201,\n",
       " 'yuzyillarda': 4.267404069425233,\n",
       " 'yapilansecimlerde': 2.6435205071343355,\n",
       " 'komunist': 2.558844015406903,\n",
       " 'partisinin': 1.1080727383920477,\n",
       " 'cogunluk': 5.287949989369029,\n",
       " 'halk': 0.9207887785526377,\n",
       " 'oylarini': 0.8727831113322987,\n",
       " 'aldigibolgeredir': 1.9850945614023194,\n",
       " 'ancak': 0.8389748285805678,\n",
       " 'bolgesinin': 1.1490026807018356,\n",
       " 'roma': 0.5152144270818686,\n",
       " 'dışında': 0.8166704041855505,\n",
       " 'olarakmuhafazakar': 2.043395168849533,\n",
       " 'olması': 0.6257769374261064,\n",
       " 'bolgenin': 1.001052875109707,\n",
       " 'güney': 1.4505052364525988,\n",
       " 'paylaştığı': 2.460753346185763,\n",
       " 'politiközelliktir': 3.020627883060028}"
      ]
     },
     "execution_count": 36,
     "metadata": {},
     "output_type": "execute_result"
    }
   ],
   "source": [
    "res1.test_perplexity(\"perplexity\")"
   ]
  },
  {
   "cell_type": "code",
   "execution_count": null,
   "metadata": {},
   "outputs": [],
   "source": []
  }
 ],
 "metadata": {
  "kernelspec": {
   "display_name": "Python 3",
   "language": "python",
   "name": "python3"
  },
  "language_info": {
   "codemirror_mode": {
    "name": "ipython",
    "version": 3
   },
   "file_extension": ".py",
   "mimetype": "text/x-python",
   "name": "python",
   "nbconvert_exporter": "python",
   "pygments_lexer": "ipython3",
   "version": "3.7.3"
  }
 },
 "nbformat": 4,
 "nbformat_minor": 2
}
